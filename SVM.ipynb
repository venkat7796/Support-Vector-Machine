{
  "nbformat": 4,
  "nbformat_minor": 0,
  "metadata": {
    "colab": {
      "name": "SVM.ipynb",
      "provenance": []
    },
    "kernelspec": {
      "name": "python3",
      "display_name": "Python 3"
    },
    "language_info": {
      "name": "python"
    }
  },
  "cells": [
    {
      "cell_type": "code",
      "execution_count": 54,
      "metadata": {
        "id": "jlKznq28lTL9"
      },
      "outputs": [],
      "source": [
        "import sklearn\n",
        "from sklearn import datasets\n",
        "from sklearn import svm\n",
        "from matplotlib import style\n",
        "import matplotlib.pyplot as plt"
      ]
    },
    {
      "cell_type": "code",
      "source": [
        "data = datasets.load_breast_cancer()"
      ],
      "metadata": {
        "id": "JkljfcbDlhEf"
      },
      "execution_count": 41,
      "outputs": []
    },
    {
      "cell_type": "code",
      "source": [
        "print(data.feature_names)\n",
        "print(data.target_names)"
      ],
      "metadata": {
        "colab": {
          "base_uri": "https://localhost:8080/"
        },
        "id": "_iCgfon6mYZ0",
        "outputId": "850223df-18bc-42dc-b6d2-4fb7c6e259b9"
      },
      "execution_count": 42,
      "outputs": [
        {
          "output_type": "stream",
          "name": "stdout",
          "text": [
            "['mean radius' 'mean texture' 'mean perimeter' 'mean area'\n",
            " 'mean smoothness' 'mean compactness' 'mean concavity'\n",
            " 'mean concave points' 'mean symmetry' 'mean fractal dimension'\n",
            " 'radius error' 'texture error' 'perimeter error' 'area error'\n",
            " 'smoothness error' 'compactness error' 'concavity error'\n",
            " 'concave points error' 'symmetry error' 'fractal dimension error'\n",
            " 'worst radius' 'worst texture' 'worst perimeter' 'worst area'\n",
            " 'worst smoothness' 'worst compactness' 'worst concavity'\n",
            " 'worst concave points' 'worst symmetry' 'worst fractal dimension']\n",
            "['malignant' 'benign']\n"
          ]
        }
      ]
    },
    {
      "cell_type": "code",
      "source": [
        "x = data.data\n",
        "y = data.target"
      ],
      "metadata": {
        "id": "Cg4I_sBlo3Hk"
      },
      "execution_count": 43,
      "outputs": []
    },
    {
      "cell_type": "code",
      "source": [
        "x_train, x_test, y_train, y_test = sklearn.model_selection.train_test_split(x,y,test_size=0.2)"
      ],
      "metadata": {
        "id": "1un7Ryjco8jz"
      },
      "execution_count": 44,
      "outputs": []
    },
    {
      "cell_type": "code",
      "source": [
        "print(x_train,y_train)"
      ],
      "metadata": {
        "colab": {
          "base_uri": "https://localhost:8080/"
        },
        "id": "16z5XbQGpX-0",
        "outputId": "bc58f4cf-0c37-4ee2-fb10-7a826635d71e"
      },
      "execution_count": 45,
      "outputs": [
        {
          "output_type": "stream",
          "name": "stdout",
          "text": [
            "[[1.094e+01 1.859e+01 7.039e+01 ... 7.887e-02 2.251e-01 7.732e-02]\n",
            " [1.968e+01 2.168e+01 1.299e+02 ... 2.255e-01 4.045e-01 7.918e-02]\n",
            " [1.849e+01 1.752e+01 1.213e+02 ... 1.663e-01 2.510e-01 9.445e-02]\n",
            " ...\n",
            " [1.205e+01 2.272e+01 7.875e+01 ... 1.092e-01 2.191e-01 9.349e-02]\n",
            " [1.625e+01 1.951e+01 1.098e+02 ... 1.775e-01 3.318e-01 9.136e-02]\n",
            " [1.362e+01 2.323e+01 8.719e+01 ... 7.174e-02 2.642e-01 6.953e-02]] [1 0 0 1 1 1 1 0 1 0 0 0 1 1 1 1 1 0 1 1 1 0 1 0 0 0 1 0 1 1 1 1 0 1 1 0 1\n",
            " 1 1 1 1 1 1 0 1 1 0 1 1 1 1 0 1 0 1 1 1 1 1 1 1 0 1 1 0 0 1 0 1 0 1 1 0 0\n",
            " 1 0 1 1 0 1 1 0 1 1 1 1 1 0 1 1 1 1 1 1 1 0 1 1 1 1 1 1 1 1 1 1 1 0 1 1 1\n",
            " 0 0 0 0 1 1 0 1 1 1 0 1 1 1 1 1 0 0 1 0 1 1 1 1 1 0 0 0 0 1 1 1 0 1 1 0 1\n",
            " 0 0 1 1 0 0 0 1 0 0 1 0 1 1 1 1 1 1 0 0 0 1 1 1 1 1 1 1 0 1 1 0 1 0 1 1 0\n",
            " 0 0 1 1 1 1 0 0 0 1 0 0 1 0 0 0 0 1 1 0 0 1 1 0 1 1 1 1 0 1 0 1 1 1 1 1 0\n",
            " 0 0 1 1 1 1 0 1 1 1 1 1 1 1 1 0 1 0 1 1 0 0 1 0 0 0 1 0 1 0 1 0 1 1 1 1 1\n",
            " 0 0 0 0 1 1 0 0 0 0 1 1 0 1 0 0 0 1 1 1 1 1 1 1 0 1 1 1 1 0 1 0 1 0 1 1 0\n",
            " 1 1 1 0 1 1 0 1 0 1 1 1 1 1 0 0 0 1 1 1 1 1 0 0 1 0 1 1 1 1 1 1 0 1 0 1 0\n",
            " 0 0 1 0 0 0 0 1 1 1 0 1 1 1 1 1 1 0 0 0 1 1 0 1 1 0 1 0 1 1 1 1 0 1 1 0 1\n",
            " 0 0 0 1 1 1 1 0 1 0 0 1 1 1 1 1 0 1 1 1 0 0 1 1 1 1 1 1 1 0 1 0 1 1 0 1 0\n",
            " 1 1 0 0 0 1 0 1 0 0 1 1 1 1 0 1 1 1 1 1 1 1 0 1 0 1 1 0 1 0 1 0 1 1 1 1 1\n",
            " 0 1 1 1 0 1 1 0 1 0 1]\n"
          ]
        }
      ]
    },
    {
      "cell_type": "code",
      "source": [
        "classes = ['malignant','benign']"
      ],
      "metadata": {
        "id": "C54fDlIApb4y"
      },
      "execution_count": 46,
      "outputs": []
    },
    {
      "cell_type": "code",
      "source": [
        "clf = svm.SVC(kernel=\"linear\")"
      ],
      "metadata": {
        "id": "yCj5JsKC2C-5"
      },
      "execution_count": 47,
      "outputs": []
    },
    {
      "cell_type": "code",
      "source": [
        "clf.fit(x_train,y_train)"
      ],
      "metadata": {
        "colab": {
          "base_uri": "https://localhost:8080/"
        },
        "id": "9nM8PX1b2MWE",
        "outputId": "78d22b8d-1ea4-47fc-e523-f5a572cce844"
      },
      "execution_count": 48,
      "outputs": [
        {
          "output_type": "execute_result",
          "data": {
            "text/plain": [
              "SVC(kernel='linear')"
            ]
          },
          "metadata": {},
          "execution_count": 48
        }
      ]
    },
    {
      "cell_type": "code",
      "source": [
        "sc = clf.score(x_test,y_test)\n",
        "print(sc)"
      ],
      "metadata": {
        "colab": {
          "base_uri": "https://localhost:8080/"
        },
        "id": "5FbwJnx-2QNk",
        "outputId": "93407734-59c9-41ee-c968-e1aa9ae277dc"
      },
      "execution_count": 49,
      "outputs": [
        {
          "output_type": "stream",
          "name": "stdout",
          "text": [
            "0.9473684210526315\n"
          ]
        }
      ]
    },
    {
      "cell_type": "code",
      "source": [
        "predict = clf.predict(x_test)"
      ],
      "metadata": {
        "id": "t2xec0AM2XAv"
      },
      "execution_count": 50,
      "outputs": []
    },
    {
      "cell_type": "code",
      "source": [
        "for x in range(len(predict)):\n",
        "  print(\"Predicted :\",classes[predict[x]],\"Actual :\",classes[y_test[x]])"
      ],
      "metadata": {
        "colab": {
          "base_uri": "https://localhost:8080/"
        },
        "id": "JPYWLP-I36Nt",
        "outputId": "1821ce35-5dfc-43f2-8907-04259db6eae2"
      },
      "execution_count": 51,
      "outputs": [
        {
          "output_type": "stream",
          "name": "stdout",
          "text": [
            "Predicted : malignant Actual : malignant\n",
            "Predicted : malignant Actual : malignant\n",
            "Predicted : benign Actual : benign\n",
            "Predicted : malignant Actual : malignant\n",
            "Predicted : malignant Actual : malignant\n",
            "Predicted : malignant Actual : malignant\n",
            "Predicted : benign Actual : benign\n",
            "Predicted : benign Actual : malignant\n",
            "Predicted : malignant Actual : malignant\n",
            "Predicted : malignant Actual : malignant\n",
            "Predicted : malignant Actual : malignant\n",
            "Predicted : malignant Actual : malignant\n",
            "Predicted : malignant Actual : malignant\n",
            "Predicted : benign Actual : benign\n",
            "Predicted : benign Actual : malignant\n",
            "Predicted : benign Actual : benign\n",
            "Predicted : benign Actual : benign\n",
            "Predicted : malignant Actual : malignant\n",
            "Predicted : benign Actual : benign\n",
            "Predicted : benign Actual : benign\n",
            "Predicted : malignant Actual : malignant\n",
            "Predicted : benign Actual : benign\n",
            "Predicted : benign Actual : benign\n",
            "Predicted : benign Actual : benign\n",
            "Predicted : benign Actual : benign\n",
            "Predicted : benign Actual : benign\n",
            "Predicted : benign Actual : benign\n",
            "Predicted : malignant Actual : malignant\n",
            "Predicted : benign Actual : benign\n",
            "Predicted : benign Actual : benign\n",
            "Predicted : malignant Actual : malignant\n",
            "Predicted : benign Actual : benign\n",
            "Predicted : malignant Actual : malignant\n",
            "Predicted : benign Actual : benign\n",
            "Predicted : benign Actual : benign\n",
            "Predicted : benign Actual : malignant\n",
            "Predicted : benign Actual : benign\n",
            "Predicted : malignant Actual : malignant\n",
            "Predicted : benign Actual : benign\n",
            "Predicted : benign Actual : benign\n",
            "Predicted : malignant Actual : malignant\n",
            "Predicted : benign Actual : benign\n",
            "Predicted : malignant Actual : malignant\n",
            "Predicted : malignant Actual : malignant\n",
            "Predicted : benign Actual : benign\n",
            "Predicted : benign Actual : benign\n",
            "Predicted : benign Actual : benign\n",
            "Predicted : benign Actual : benign\n",
            "Predicted : benign Actual : benign\n",
            "Predicted : malignant Actual : malignant\n",
            "Predicted : benign Actual : benign\n",
            "Predicted : malignant Actual : malignant\n",
            "Predicted : malignant Actual : malignant\n",
            "Predicted : malignant Actual : malignant\n",
            "Predicted : benign Actual : malignant\n",
            "Predicted : malignant Actual : malignant\n",
            "Predicted : benign Actual : malignant\n",
            "Predicted : benign Actual : benign\n",
            "Predicted : malignant Actual : malignant\n",
            "Predicted : benign Actual : benign\n",
            "Predicted : benign Actual : benign\n",
            "Predicted : benign Actual : benign\n",
            "Predicted : malignant Actual : malignant\n",
            "Predicted : benign Actual : benign\n",
            "Predicted : benign Actual : benign\n",
            "Predicted : benign Actual : benign\n",
            "Predicted : benign Actual : benign\n",
            "Predicted : benign Actual : benign\n",
            "Predicted : malignant Actual : malignant\n",
            "Predicted : benign Actual : benign\n",
            "Predicted : benign Actual : benign\n",
            "Predicted : benign Actual : benign\n",
            "Predicted : benign Actual : benign\n",
            "Predicted : malignant Actual : malignant\n",
            "Predicted : benign Actual : benign\n",
            "Predicted : benign Actual : benign\n",
            "Predicted : benign Actual : benign\n",
            "Predicted : benign Actual : benign\n",
            "Predicted : benign Actual : benign\n",
            "Predicted : benign Actual : benign\n",
            "Predicted : malignant Actual : malignant\n",
            "Predicted : benign Actual : benign\n",
            "Predicted : malignant Actual : malignant\n",
            "Predicted : benign Actual : benign\n",
            "Predicted : malignant Actual : malignant\n",
            "Predicted : malignant Actual : malignant\n",
            "Predicted : malignant Actual : malignant\n",
            "Predicted : benign Actual : benign\n",
            "Predicted : malignant Actual : malignant\n",
            "Predicted : malignant Actual : benign\n",
            "Predicted : benign Actual : benign\n",
            "Predicted : benign Actual : benign\n",
            "Predicted : benign Actual : benign\n",
            "Predicted : benign Actual : benign\n",
            "Predicted : malignant Actual : malignant\n",
            "Predicted : benign Actual : benign\n",
            "Predicted : benign Actual : benign\n",
            "Predicted : benign Actual : benign\n",
            "Predicted : benign Actual : benign\n",
            "Predicted : malignant Actual : malignant\n",
            "Predicted : benign Actual : benign\n",
            "Predicted : benign Actual : benign\n",
            "Predicted : malignant Actual : malignant\n",
            "Predicted : benign Actual : benign\n",
            "Predicted : benign Actual : benign\n",
            "Predicted : benign Actual : benign\n",
            "Predicted : benign Actual : benign\n",
            "Predicted : benign Actual : benign\n",
            "Predicted : malignant Actual : malignant\n",
            "Predicted : malignant Actual : malignant\n",
            "Predicted : malignant Actual : malignant\n",
            "Predicted : malignant Actual : malignant\n",
            "Predicted : malignant Actual : malignant\n",
            "Predicted : malignant Actual : malignant\n"
          ]
        }
      ]
    },
    {
      "cell_type": "code",
      "source": [
        "ac = sklearn.metrics.accuracy_score(predict,y_test)\n",
        "print(ac)"
      ],
      "metadata": {
        "colab": {
          "base_uri": "https://localhost:8080/"
        },
        "id": "n1ZvDC-_5SEv",
        "outputId": "5e84598f-26ef-4cc6-c356-9d29061a4b21"
      },
      "execution_count": 52,
      "outputs": [
        {
          "output_type": "stream",
          "name": "stdout",
          "text": [
            "0.9473684210526315\n"
          ]
        }
      ]
    },
    {
      "cell_type": "code",
      "source": [
        "style.use('ggplot')\n",
        "plt.hist(predict)\n",
        "plt.xlabel('Classes')\n",
        "plt.ylabel('No of people')\n",
        "print(len(predict))"
      ],
      "metadata": {
        "colab": {
          "base_uri": "https://localhost:8080/",
          "height": 299
        },
        "id": "ZW73_XuO6GIb",
        "outputId": "d9003fd2-f149-482c-9373-4e92765c5194"
      },
      "execution_count": 58,
      "outputs": [
        {
          "output_type": "stream",
          "name": "stdout",
          "text": [
            "114\n"
          ]
        },
        {
          "output_type": "display_data",
          "data": {
            "image/png": "[encoded data removed]",
            "text/plain": [
              "<Figure size 432x288 with 1 Axes>"
            ]
          },
          "metadata": {}
        }
      ]
    }
  ]
}